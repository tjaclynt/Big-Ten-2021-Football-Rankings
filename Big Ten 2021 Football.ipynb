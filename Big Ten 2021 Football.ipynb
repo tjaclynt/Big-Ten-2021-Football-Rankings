{
 "cells": [
  {
   "cell_type": "code",
   "execution_count": 30,
   "id": "316bede7",
   "metadata": {},
   "outputs": [],
   "source": [
    "from selenium import webdriver\n",
    "from bs4 import BeautifulSoup\n",
    "import pandas as pd\n",
    "import warnings\n",
    "warnings.filterwarnings('ignore')"
   ]
  },
  {
   "cell_type": "code",
   "execution_count": 31,
   "id": "6e3591cf",
   "metadata": {},
   "outputs": [],
   "source": [
    "options = webdriver.ChromeOptions()\n",
    "options.add_argument('--headless')\n",
    "options.add_argument('--no-sandbox')\n",
    "options.add_argument('--disable-dev-shm-usage')\n"
   ]
  },
  {
   "cell_type": "code",
   "execution_count": 32,
   "id": "e63af617",
   "metadata": {},
   "outputs": [],
   "source": [
    "team_names = [\"ohio-state\",\"michigan\", \"michigan-state\", \"maryland\", \"purdue\", \"nebraska\", \"minnesota\", \"wisconsin\", \"penn-state\", \"iowa\", \"illinois\", \"rutgers\", \"indiana\", \"northwestern\"]\n",
    "\n",
    "stats_urls = [f\"https://www.sports-reference.com/cfb/schools/{team}/2021.html\" for team in team_names]\n",
    "rosters_urls = [f\"https://www.sports-reference.com/cfb/schools/{team}/2021-roster.html\" for team in team_names]"
   ]
  },
  {
   "cell_type": "code",
   "execution_count": 33,
   "id": "18dd2db1",
   "metadata": {},
   "outputs": [],
   "source": [
    "wd = webdriver.Chrome('chromedriver', options=options)"
   ]
  },
  {
   "cell_type": "code",
   "execution_count": 34,
   "id": "0d85b653",
   "metadata": {},
   "outputs": [],
   "source": [
    "# list of sub dataframes from each team which will later be concatenated \n",
    "passing = []\n",
    "rushing_receiving = []\n",
    "defense = []\n",
    "scoring = []"
   ]
  },
  {
   "cell_type": "code",
   "execution_count": 35,
   "id": "292fa7d4",
   "metadata": {
    "scrolled": false
   },
   "outputs": [],
   "source": [
    "index = 0\n",
    "\n",
    "# iterates over both lists (stats_urls and rosters_urls)\n",
    "for (stats_site, roster_site) in zip(stats_urls, rosters_urls):\n",
    "    wd.get(stats_site)\n",
    "    html_stats = wd.page_source\n",
    "    stats = pd.read_html(html_stats) # stats contains all of the tables where stats[0] is the first table (current injuries)\n",
    "    \n",
    "    wd.get(roster_site)\n",
    "    html_roster = wd.page_source\n",
    "    roster = pd.read_html(html_roster) # roster[0] is the roster table \n",
    "    \n",
    "    # assigns dataframes to their corresponding categories of stats\n",
    "    # removes filler rows 'NaN' and 'Player' which occur when the table has a break (remove rows where the Rank is not a number)\n",
    "    if len(stats) == 8: # accounts for 8 tables (has 'Current Injuries' table)\n",
    "        passing_df = stats[2][pd.to_numeric(stats[2]['Unnamed: 0_level_0']['Rk'], errors='coerce').notnull()]\n",
    "        rushing_receiving_df = stats[3][pd.to_numeric(stats[3]['Unnamed: 0_level_0']['Rk'], errors='coerce').notnull()]\n",
    "        defense_df = stats[4][pd.to_numeric(stats[4]['Unnamed: 0_level_0']['Rk'], errors='coerce').notnull()]\n",
    "        scoring_df = stats[7][pd.to_numeric(stats[7]['Unnamed: 0_level_0']['Rk'], errors='coerce').notnull()]\n",
    "    \n",
    "    # accounts for 7 tables (does not have 'Current Injuries' table)\n",
    "    else:\n",
    "        passing_df = stats[1][pd.to_numeric(stats[1]['Unnamed: 0_level_0']['Rk'], errors='coerce').notnull()]\n",
    "        rushing_receiving_df = stats[2][pd.to_numeric(stats[2]['Unnamed: 0_level_0']['Rk'], errors='coerce').notnull()]\n",
    "        defense_df = stats[3][pd.to_numeric(stats[3]['Unnamed: 0_level_0']['Rk'], errors='coerce').notnull()]\n",
    "        scoring_df = stats[6][pd.to_numeric(stats[6]['Unnamed: 0_level_0']['Rk'], errors='coerce').notnull()]\n",
    "    \n",
    "    # position of each player\n",
    "    position = []\n",
    "    \n",
    "    # finds position of each player that is named in the 'passing' dataframe\n",
    "    for player in passing_df['Unnamed: 1_level_0']['Player']:\n",
    "        ind = roster[0][roster[0]['Player'] == player].index.values[0] # finds index of the player in the roster\n",
    "        pos = roster[0].Pos[ind] # uses index to get position of the player\n",
    "        position.append(pos)\n",
    "        \n",
    "    # adds columns 'Position' and 'School' to the passing stats dataframe\n",
    "    passing_df['Position'] = position\n",
    "    passing_df['School'] = team_names[index]\n",
    "    \n",
    "    # adds the sub dataframe of passing stats to the list \n",
    "    passing.append(passing_df)\n",
    "    \n",
    "    \n",
    "    \n",
    "    # REPEAT --> find position of each player that is named in the 'rushing_receiving' dataframe\n",
    "    position.clear()\n",
    "    \n",
    "    for player in rushing_receiving_df['Unnamed: 1_level_0']['Player']:\n",
    "        ind = roster[0][roster[0]['Player'] == player].index.values[0] # finds index of the player in the roster\n",
    "        pos = roster[0].Pos[ind] # uses index to get position of the player\n",
    "        position.append(pos)\n",
    "        \n",
    "    # adds columns 'Position' and 'Scool' to the 'rushing_receiving' dataframe\n",
    "    rushing_receiving_df['Position'] = position\n",
    "    rushing_receiving_df['School'] = team_names[index]\n",
    "    \n",
    "    # adds the sub dataframe of rushing_receiving to the list\n",
    "    rushing_receiving.append(rushing_receiving_df)\n",
    "    \n",
    "    \n",
    "    \n",
    "    # REPEAT --> find position of each player that is named in the 'defense' dataframe\n",
    "    position.clear()\n",
    "    \n",
    "    # account for rows that have 'NaN' or 'Player' in the Player column --> this is when the table has a break\n",
    "    for player in defense_df['Unnamed: 1_level_0']['Player']: \n",
    "        ind = roster[0][roster[0]['Player'] == player].index.values[0] # finds index of the player in the roster\n",
    "        pos = roster[0].Pos[ind] # uses index to get position of the player\n",
    "        position.append(pos)\n",
    "        \n",
    "    # adds columns 'Position' and 'School' to the 'defense' dataframe\n",
    "    defense_df['Position'] = position\n",
    "    defense_df['School'] = team_names[index]\n",
    "    \n",
    "    # adds the sub dataframe of defense to the list\n",
    "    defense.append(defense_df)    \n",
    "    \n",
    "    \n",
    "    \n",
    "    # REPEAT --> find position of each player that is named in the 'scoring' dataframe\n",
    "    position.clear()\n",
    "    \n",
    "    # account for rows that have 'NaN' or 'Player' in the Player column --> this is when the table has a break\n",
    "    for player in scoring_df['Unnamed: 1_level_0']['Player']: \n",
    "        ind = roster[0][roster[0]['Player'] == player].index.values[0] # finds index of the player in the roster\n",
    "        pos = roster[0].Pos[ind] # uses index to get position of the player\n",
    "        position.append(pos)\n",
    "        \n",
    "    # adds columns 'Position' and 'School' to the 'scoring' dataframe\n",
    "    scoring_df['Position'] = position\n",
    "    scoring_df['School'] = team_names[index]\n",
    "    \n",
    "    # adds the sub dataframe of 'scoring' to the list\n",
    "    scoring.append(scoring_df) \n",
    "    \n",
    "    # repeat for next team\n",
    "    index += 1"
   ]
  },
  {
   "cell_type": "code",
   "execution_count": 36,
   "id": "12e8e896",
   "metadata": {},
   "outputs": [],
   "source": [
    "# concatenate the list of dataframes for each category\n",
    "passing_overall = pd.concat(passing, axis=0, ignore_index=True)\n",
    "rushing_receiving_overall = pd.concat(rushing_receiving, axis=0, ignore_index=True)\n",
    "defense_overall = pd.concat(defense, axis=0, ignore_index=True)\n",
    "scoring_overall = pd.concat(scoring, axis=0, ignore_index=True)"
   ]
  },
  {
   "cell_type": "code",
   "execution_count": 37,
   "id": "9adca655",
   "metadata": {},
   "outputs": [],
   "source": [
    "# ranks the 'passing' stats by total number of yards\n",
    "passing_overall.sort_values(by = [('Passing', 'Yds')], ascending = False, ignore_index = True, inplace = True)"
   ]
  },
  {
   "cell_type": "code",
   "execution_count": 38,
   "id": "809700b3",
   "metadata": {},
   "outputs": [],
   "source": [
    "# ranks the 'rushing/receiving' stats by total number of rushing yards\n",
    "rushing_overall = rushing_receiving_overall.sort_values(by = [('Rushing', 'Yds')], ascending = False, ignore_index = True)\n",
    "\n",
    "# ranks the 'rushing/receiving' stats by total number of receiving yards\n",
    "receiving_overall = rushing_receiving_overall.sort_values(by = [('Receiving', 'Yds')], ascending = False, ignore_index = True)"
   ]
  },
  {
   "cell_type": "code",
   "execution_count": 39,
   "id": "bf81246d",
   "metadata": {},
   "outputs": [],
   "source": [
    "# converts the 'Total Tackles,' 'Total Sacks,' and 'Total Passes Defended' columns from type object to type float\n",
    "defense_overall = defense_overall.astype({('Tackles', 'Tot'):'float', ('Tackles', 'Sk'):'float', ('Def Int', 'PD'):'float'})\n",
    "\n",
    "# ranks the 'defense' stats by total number of tackles\n",
    "defense_tackles = defense_overall.sort_values(by = [('Tackles', 'Tot')], ascending = False, ignore_index = True)\n",
    "\n",
    "# ranks the 'defense' stats by total number of sacks\n",
    "defense_sacks = defense_overall.sort_values(by = [('Tackles', 'Sk')], ascending = False, ignore_index = True)\n",
    "\n",
    "# ranks the 'defense' stats by total number passes defended\n",
    "defense_pd = defense_overall.sort_values(by = [('Def Int', 'PD')], ascending = False, ignore_index = True)"
   ]
  },
  {
   "cell_type": "code",
   "execution_count": 40,
   "id": "361dff8c",
   "metadata": {},
   "outputs": [],
   "source": [
    "# ranks the 'scoring' stats by total number points\n",
    "scoring_overall.sort_values(by = [('Unnamed: 15_level_0', 'Pts')], ascending = False, ignore_index = True, inplace = True)"
   ]
  },
  {
   "cell_type": "code",
   "execution_count": 41,
   "id": "56c50478",
   "metadata": {},
   "outputs": [],
   "source": [
    "# remove the 'Rank' column from each dataframe that is assigned by each individual team\n",
    "passing_overall.drop(('Unnamed: 0_level_0', 'Rk'), axis = 1, inplace = True)\n",
    "rushing_overall.drop(('Unnamed: 0_level_0', 'Rk'), axis = 1, inplace = True)\n",
    "receiving_overall.drop(('Unnamed: 0_level_0', 'Rk'), axis = 1, inplace = True)\n",
    "defense_tackles.drop(('Unnamed: 0_level_0', 'Rk'), axis = 1, inplace = True)\n",
    "defense_sacks.drop(('Unnamed: 0_level_0', 'Rk'), axis = 1, inplace = True)\n",
    "defense_pd.drop(('Unnamed: 0_level_0', 'Rk'), axis = 1, inplace = True)\n",
    "scoring_overall.drop(('Unnamed: 0_level_0', 'Rk'), axis = 1, inplace = True)"
   ]
  },
  {
   "cell_type": "code",
   "execution_count": 43,
   "id": "9122e195",
   "metadata": {},
   "outputs": [],
   "source": [
    "# write each of the dataframe stats to excel\n",
    "writer = pd.ExcelWriter('output.xlsx') \n",
    "\n",
    "passing_overall.to_excel(writer, sheet_name = 'Overall Passing')\n",
    "rushing_overall.to_excel(writer, sheet_name = 'Overall Rushing')\n",
    "receiving_overall.to_excel(writer, sheet_name = 'Overall Receiving')\n",
    "defense_tackles.to_excel(writer, sheet_name = 'Defensive Tackles')\n",
    "defense_sacks.to_excel(writer, sheet_name = 'Defensive Sacks')\n",
    "defense_pd.to_excel(writer, sheet_name = 'Passes Defended')\n",
    "scoring_overall.to_excel(writer, sheet_name = 'Overall Scoring')\n",
    "\n"
   ]
  },
  {
   "cell_type": "code",
   "execution_count": 44,
   "id": "f34a5022",
   "metadata": {},
   "outputs": [],
   "source": [
    "writer.save()"
   ]
  }
 ],
 "metadata": {
  "kernelspec": {
   "display_name": "Python 3 (ipykernel)",
   "language": "python",
   "name": "python3"
  },
  "language_info": {
   "codemirror_mode": {
    "name": "ipython",
    "version": 3
   },
   "file_extension": ".py",
   "mimetype": "text/x-python",
   "name": "python",
   "nbconvert_exporter": "python",
   "pygments_lexer": "ipython3",
   "version": "3.10.4"
  }
 },
 "nbformat": 4,
 "nbformat_minor": 5
}
